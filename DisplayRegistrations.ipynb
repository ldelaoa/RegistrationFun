{
 "cells": [
  {
   "cell_type": "code",
   "execution_count": 16,
   "id": "a95b0acd",
   "metadata": {},
   "outputs": [
    {
     "ename": "ModuleNotFoundError",
     "evalue": "No module named 'mainEvaluation_fun'",
     "output_type": "error",
     "traceback": [
      "\u001b[1;31m---------------------------------------------------------------------------\u001b[0m",
      "\u001b[1;31mModuleNotFoundError\u001b[0m                       Traceback (most recent call last)",
      "Cell \u001b[1;32mIn[16], line 5\u001b[0m\n\u001b[0;32m      3\u001b[0m \u001b[38;5;28;01mimport\u001b[39;00m \u001b[38;5;21;01mmatplotlib\u001b[39;00m\u001b[38;5;21;01m.\u001b[39;00m\u001b[38;5;21;01mpyplot\u001b[39;00m \u001b[38;5;28;01mas\u001b[39;00m \u001b[38;5;21;01mplt\u001b[39;00m\n\u001b[0;32m      4\u001b[0m \u001b[38;5;28;01mimport\u001b[39;00m \u001b[38;5;21;01mnibabel\u001b[39;00m \u001b[38;5;28;01mas\u001b[39;00m \u001b[38;5;21;01mnib\u001b[39;00m\n\u001b[1;32m----> 5\u001b[0m \u001b[38;5;28;01mfrom\u001b[39;00m \u001b[38;5;21;01mmainEvaluation_fun\u001b[39;00m \u001b[38;5;28;01mimport\u001b[39;00m \u001b[38;5;241m*\u001b[39m\n",
      "\u001b[1;31mModuleNotFoundError\u001b[0m: No module named 'mainEvaluation_fun'"
     ]
    }
   ],
   "source": [
    "import os\n",
    "import numpy \n",
    "import matplotlib.pyplot as plt\n",
    "import nibabel as nib\n",
    "from mainEvaluation_fun import *"
   ]
  },
  {
   "cell_type": "code",
   "execution_count": 13,
   "id": "9bc562ca",
   "metadata": {},
   "outputs": [],
   "source": [
    "px = \"5889191\"\n",
    "\n",
    "regist_path  = \"//zkh/appdata/RTDicom/DAMEproject/new_DicomData_Nifti_registered/\"+px+\"/\"\n",
    "crop_path  = \"//zkh/appdata/RTDicom/DAMEproject/new_DicomData_Nifti_registered/\"+px+\"/\""
   ]
  },
  {
   "cell_type": "code",
   "execution_count": 14,
   "id": "e238a4a0",
   "metadata": {},
   "outputs": [
    {
     "ename": "NameError",
     "evalue": "name 'FilesperPatient_Inter_LungCroped' is not defined",
     "output_type": "error",
     "traceback": [
      "\u001b[1;31m---------------------------------------------------------------------------\u001b[0m",
      "\u001b[1;31mNameError\u001b[0m                                 Traceback (most recent call last)",
      "Cell \u001b[1;32mIn[14], line 1\u001b[0m\n\u001b[1;32m----> 1\u001b[0m intermediate_dict \u001b[38;5;241m=\u001b[39m \u001b[43mFilesperPatient_Inter_LungCroped\u001b[49m(crop_path)\n\u001b[0;32m      2\u001b[0m registered_dict \u001b[38;5;241m=\u001b[39m FilesPerPatient_Registered(regist_path)\n",
      "\u001b[1;31mNameError\u001b[0m: name 'FilesperPatient_Inter_LungCroped' is not defined"
     ]
    }
   ],
   "source": [
    "intermediate_dict = FilesperPatient_Inter_LungCroped(crop_path)\n",
    "registered_dict = FilesPerPatient_Registered(regist_path)"
   ]
  },
  {
   "cell_type": "code",
   "execution_count": 10,
   "id": "17e37693",
   "metadata": {},
   "outputs": [
    {
     "name": "stdout",
     "output_type": "stream",
     "text": [
      "/zkh\u0007ppdata/RTDicom/DAMEproject\n",
      "ew_DicomData_Nifti_registered\n"
     ]
    }
   ],
   "source": [
    "ldctLung_v1_t,ldctLung_v2_t,petLung_v1_t,petLung_v2_t = OnlyRead_registered(registered_dict, True)\n",
    "PlanCT_LungCrop_tensor, ITV_LungCrop_tensor, _, _, _, _ = OnlyRead_Intermediate(intermediate_dict, True, False)"
   ]
  },
  {
   "cell_type": "code",
   "execution_count": null,
   "id": "9cd6eec0",
   "metadata": {},
   "outputs": [],
   "source": [
    "ldctClinic_v1_t,ldctClinic_v2_t,petClinic_v1_t,petClinic_v2_t = OnlyRead_registered(registered_dict, False)#False is Clinic\n",
    "PlanCT_ClinicCrop_tensor, ITV_ClinicCrop_tensor, _, _, _, _ = OnlyRead_Intermediate(intermediate_dict, False, True)"
   ]
  }
 ],
 "metadata": {
  "kernelspec": {
   "display_name": "Python 3 (ipykernel)",
   "language": "python",
   "name": "python3"
  },
  "language_info": {
   "codemirror_mode": {
    "name": "ipython",
    "version": 3
   },
   "file_extension": ".py",
   "mimetype": "text/x-python",
   "name": "python",
   "nbconvert_exporter": "python",
   "pygments_lexer": "ipython3",
   "version": "3.9.16"
  }
 },
 "nbformat": 4,
 "nbformat_minor": 5
}
