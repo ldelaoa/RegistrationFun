{
 "cells": [
  {
   "cell_type": "code",
   "execution_count": 2,
   "id": "0b54f693",
   "metadata": {},
   "outputs": [],
   "source": [
    "import torch\n",
    "import os\n",
    "import shutil\n"
   ]
  },
  {
   "cell_type": "code",
   "execution_count": 3,
   "id": "83761702",
   "metadata": {
    "scrolled": true
   },
   "outputs": [
    {
     "name": "stdout",
     "output_type": "stream",
     "text": [
      "119\n"
     ]
    }
   ],
   "source": [
    "pathIDs_LungCrop = 'C:/Users/delaOArevaLR/OneDrive - UMCG/Code/Code_From_Umcg/LungCrop_OkIds.txt'\n",
    "pathIDs_TumorCrop = 'C:/Users/delaOArevaLR/OneDrive - UMCG/Code/Code_From_Umcg/TumorCrop_OkIds.txt'\n",
    "\n",
    "list_LungCrop = []\n",
    "with open(pathIDs_LungCrop, 'r') as file1:\n",
    "    for line in file1:\n",
    "        list_LungCrop.append(line.strip())\n",
    "print(len(list_LungCrop))"
   ]
  },
  {
   "cell_type": "code",
   "execution_count": 4,
   "id": "c2480636",
   "metadata": {},
   "outputs": [],
   "source": [
    "pathPET_LungCrop = \"//zkh/appdata/RTDicom/DAMEproject/new_DicomData_Nifti_registered/\"\n",
    "pathPlanCT_LungCrop = \"//zkh/appdata/RTDicom/DAMEproject/new_DicomData_Nifti_reshaped/\"\n",
    "pathITV_LungCrop = \"//zkh/appdata/RTDicom/DAMEproject/new_DicomData_Nifti_reshaped/\"\n",
    "\n",
    "pet_word = \"/PET_LungCrop_Register_v2.nii.gz\"\n",
    "planCT_word = \"/PlanCT_LungCropped.nii.gz\"\n",
    "itv_word = \"/ITV_LungCropped.nii.gz\"\n",
    "\n"
   ]
  },
  {
   "cell_type": "code",
   "execution_count": 5,
   "id": "1fd44139",
   "metadata": {},
   "outputs": [],
   "source": [
    "root_dest = \"C:/Users/delaOArevaLR/OneDrive - UMCG/NiftiData/\"\n",
    "count=0\n",
    "for Px in list_LungCrop:\n",
    "    destin = root_dest+Px\n",
    "    if not os.path.exists(destin):\n",
    "        os.makedirs(destin)\n",
    "    #PET\n",
    "    sourcePET = pathPET_LungCrop+Px+pet_word\n",
    "    if os.path.exists(sourcePET) and not os.path.exists(destin+pet_word):\n",
    "        shutil.copyfile(sourcePET, destin+pet_word)\n",
    "    \n",
    "    #PlanCT    \n",
    "    sourcePlanCT = pathPlanCT_LungCrop+Px+planCT_word\n",
    "    if os.path.exists(sourcePlanCT) and not os.path.exists(destin+planCT_word):\n",
    "        shutil.copyfile(sourcePlanCT, destin+planCT_word)\n",
    "    \n",
    "    #ITV\n",
    "    sourceITV = pathITV_LungCrop+Px+itv_word\n",
    "    if os.path.exists(sourceITV) and not os.path.exists(destin+itv_word):\n",
    "        shutil.copyfile(sourceITV, destin+itv_word)\n",
    "    \n",
    "        \n",
    "    if count==1:\n",
    "        break"
   ]
  },
  {
   "cell_type": "code",
   "execution_count": null,
   "id": "155b5431",
   "metadata": {},
   "outputs": [],
   "source": []
  },
  {
   "cell_type": "code",
   "execution_count": null,
   "id": "87cc4f78",
   "metadata": {},
   "outputs": [],
   "source": []
  }
 ],
 "metadata": {
  "kernelspec": {
   "display_name": "Python 3 (ipykernel)",
   "language": "python",
   "name": "python3"
  },
  "language_info": {
   "codemirror_mode": {
    "name": "ipython",
    "version": 3
   },
   "file_extension": ".py",
   "mimetype": "text/x-python",
   "name": "python",
   "nbconvert_exporter": "python",
   "pygments_lexer": "ipython3",
   "version": "3.9.16"
  }
 },
 "nbformat": 4,
 "nbformat_minor": 5
}
